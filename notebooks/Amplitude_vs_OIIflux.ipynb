{
 "cells": [
  {
   "cell_type": "code",
   "execution_count": 1,
   "metadata": {},
   "outputs": [],
   "source": [
    "%matplotlib inline\n",
    "\n",
    "import numpy as np\n",
    "import pandas as pd\n",
    "import matplotlib.pyplot as plt \n",
    "plt.style.use(\"fivethirtyeight\")"
   ]
  },
  {
   "cell_type": "markdown",
   "metadata": {},
   "source": [
    "This notebook will check Amplitude of the best model per slit for a given mask vs. the [O II] flux measured by Jae's method and see if there is a similar trend or not. "
   ]
  },
  {
   "cell_type": "markdown",
   "metadata": {},
   "source": [
    "### Mask 1186"
   ]
  },
  {
   "cell_type": "code",
   "execution_count": 2,
   "metadata": {},
   "outputs": [],
   "source": [
    "masknum = '1186'\n",
    "maskname = 'COSMOS-1'"
   ]
  },
  {
   "cell_type": "markdown",
   "metadata": {},
   "source": [
    "Data preprocessing"
   ]
  },
  {
   "cell_type": "code",
   "execution_count": 3,
   "metadata": {},
   "outputs": [],
   "source": [
    "#read Jae's data; this is saved in results/JaeResults/union-catalog-results/\n",
    "df_CNN = pd.read_csv(\"../data/JaeResults/union-catalog.csv\")\n",
    "\n",
    "#read in my data; both blue and red mask\n",
    "df_Gauss_b = pd.read_csv(\"../results/Max_z_n_width/\" + masknum + \".txt\")\n",
    "df_Gauss_r = pd.read_csv(\"../results/Max_z_n_width/\" \\\n",
    "                         + str(int(masknum) + 1) + \".txt\")\n",
    "\n",
    "#ignore the last value \n",
    "df_Gauss_b = df_Gauss_b[:-1]\n",
    "df_Gauss_r = df_Gauss_r[:-1]\n",
    "\n",
    "#process Jae's data to only include the necessary mask \n",
    "df_CNN = df_CNN[df_CNN['mask_name'] == maskname]\n",
    "df_CNN = df_CNN[1:] #clip first and last point to match Gaussian_Filter data length\n",
    "\n",
    "#turn -999 to np.nan\n",
    "replace_999 = {-999:np.nan}\n",
    "df_CNN = df_CNN.replace(replace_999)\n",
    "df_Gauss_b = df_Gauss_b.replace(replace_999)\n",
    "df_Gauss_r = df_Gauss_r.replace(replace_999)"
   ]
  },
  {
   "cell_type": "code",
   "execution_count": 4,
   "metadata": {},
   "outputs": [
    {
     "data": {
      "text/html": [
       "<div>\n",
       "<style scoped>\n",
       "    .dataframe tbody tr th:only-of-type {\n",
       "        vertical-align: middle;\n",
       "    }\n",
       "\n",
       "    .dataframe tbody tr th {\n",
       "        vertical-align: top;\n",
       "    }\n",
       "\n",
       "    .dataframe thead th {\n",
       "        text-align: right;\n",
       "    }\n",
       "</style>\n",
       "<table border=\"1\" class=\"dataframe\">\n",
       "  <thead>\n",
       "    <tr style=\"text-align: right;\">\n",
       "      <th></th>\n",
       "      <th>Unnamed: 0</th>\n",
       "      <th>CONF</th>\n",
       "      <th>DEC</th>\n",
       "      <th>MASK_NUM</th>\n",
       "      <th>OII</th>\n",
       "      <th>OII_err</th>\n",
       "      <th>RA</th>\n",
       "      <th>bit_code</th>\n",
       "      <th>gmag</th>\n",
       "      <th>redz</th>\n",
       "      <th>rmag</th>\n",
       "      <th>zmag</th>\n",
       "      <th>mask_name</th>\n",
       "    </tr>\n",
       "  </thead>\n",
       "  <tbody>\n",
       "    <tr>\n",
       "      <th>435</th>\n",
       "      <td>435.0</td>\n",
       "      <td>3.0</td>\n",
       "      <td>2.125968</td>\n",
       "      <td>2.0</td>\n",
       "      <td>8.116577</td>\n",
       "      <td>0.286172</td>\n",
       "      <td>149.731087</td>\n",
       "      <td>8.0</td>\n",
       "      <td>23.217658</td>\n",
       "      <td>0.8373</td>\n",
       "      <td>22.545479</td>\n",
       "      <td>21.796948</td>\n",
       "      <td>COSMOS-1</td>\n",
       "    </tr>\n",
       "    <tr>\n",
       "      <th>436</th>\n",
       "      <td>436.0</td>\n",
       "      <td>NaN</td>\n",
       "      <td>2.122726</td>\n",
       "      <td>2.0</td>\n",
       "      <td>0.000000</td>\n",
       "      <td>-1.000000</td>\n",
       "      <td>149.710408</td>\n",
       "      <td>4.0</td>\n",
       "      <td>21.457291</td>\n",
       "      <td>NaN</td>\n",
       "      <td>19.597485</td>\n",
       "      <td>18.513648</td>\n",
       "      <td>COSMOS-1</td>\n",
       "    </tr>\n",
       "    <tr>\n",
       "      <th>437</th>\n",
       "      <td>437.0</td>\n",
       "      <td>NaN</td>\n",
       "      <td>2.123648</td>\n",
       "      <td>2.0</td>\n",
       "      <td>0.000000</td>\n",
       "      <td>-1.000000</td>\n",
       "      <td>149.613543</td>\n",
       "      <td>208.0</td>\n",
       "      <td>22.827065</td>\n",
       "      <td>NaN</td>\n",
       "      <td>22.159316</td>\n",
       "      <td>20.592042</td>\n",
       "      <td>COSMOS-1</td>\n",
       "    </tr>\n",
       "    <tr>\n",
       "      <th>438</th>\n",
       "      <td>438.0</td>\n",
       "      <td>3.0</td>\n",
       "      <td>2.114244</td>\n",
       "      <td>2.0</td>\n",
       "      <td>11.319278</td>\n",
       "      <td>0.327417</td>\n",
       "      <td>149.733670</td>\n",
       "      <td>2000.0</td>\n",
       "      <td>22.661996</td>\n",
       "      <td>0.7509</td>\n",
       "      <td>22.029040</td>\n",
       "      <td>21.152637</td>\n",
       "      <td>COSMOS-1</td>\n",
       "    </tr>\n",
       "    <tr>\n",
       "      <th>439</th>\n",
       "      <td>439.0</td>\n",
       "      <td>2.0</td>\n",
       "      <td>2.116113</td>\n",
       "      <td>2.0</td>\n",
       "      <td>9.505800</td>\n",
       "      <td>0.251534</td>\n",
       "      <td>149.620169</td>\n",
       "      <td>984.0</td>\n",
       "      <td>23.489338</td>\n",
       "      <td>0.9739</td>\n",
       "      <td>23.119165</td>\n",
       "      <td>22.146569</td>\n",
       "      <td>COSMOS-1</td>\n",
       "    </tr>\n",
       "  </tbody>\n",
       "</table>\n",
       "</div>"
      ],
      "text/plain": [
       "     Unnamed: 0  CONF       DEC  MASK_NUM        OII   OII_err          RA  \\\n",
       "435       435.0   3.0  2.125968       2.0   8.116577  0.286172  149.731087   \n",
       "436       436.0   NaN  2.122726       2.0   0.000000 -1.000000  149.710408   \n",
       "437       437.0   NaN  2.123648       2.0   0.000000 -1.000000  149.613543   \n",
       "438       438.0   3.0  2.114244       2.0  11.319278  0.327417  149.733670   \n",
       "439       439.0   2.0  2.116113       2.0   9.505800  0.251534  149.620169   \n",
       "\n",
       "     bit_code       gmag    redz       rmag       zmag mask_name  \n",
       "435       8.0  23.217658  0.8373  22.545479  21.796948  COSMOS-1  \n",
       "436       4.0  21.457291     NaN  19.597485  18.513648  COSMOS-1  \n",
       "437     208.0  22.827065     NaN  22.159316  20.592042  COSMOS-1  \n",
       "438    2000.0  22.661996  0.7509  22.029040  21.152637  COSMOS-1  \n",
       "439     984.0  23.489338  0.9739  23.119165  22.146569  COSMOS-1  "
      ]
     },
     "execution_count": 4,
     "metadata": {},
     "output_type": "execute_result"
    }
   ],
   "source": [
    "df_CNN.tail()"
   ]
  },
  {
   "cell_type": "code",
   "execution_count": 5,
   "metadata": {},
   "outputs": [
    {
     "data": {
      "text/html": [
       "<div>\n",
       "<style scoped>\n",
       "    .dataframe tbody tr th:only-of-type {\n",
       "        vertical-align: middle;\n",
       "    }\n",
       "\n",
       "    .dataframe tbody tr th {\n",
       "        vertical-align: top;\n",
       "    }\n",
       "\n",
       "    .dataframe thead th {\n",
       "        text-align: right;\n",
       "    }\n",
       "</style>\n",
       "<table border=\"1\" class=\"dataframe\">\n",
       "  <thead>\n",
       "    <tr style=\"text-align: right;\">\n",
       "      <th></th>\n",
       "      <th>Unnamed: 0</th>\n",
       "      <th>ra</th>\n",
       "      <th>dec</th>\n",
       "      <th>max_z</th>\n",
       "      <th>max_w</th>\n",
       "      <th>amp_max</th>\n",
       "    </tr>\n",
       "  </thead>\n",
       "  <tbody>\n",
       "    <tr>\n",
       "      <th>153</th>\n",
       "      <td>154</td>\n",
       "      <td>149.731087</td>\n",
       "      <td>2.125968</td>\n",
       "      <td>0.836494</td>\n",
       "      <td>80.0</td>\n",
       "      <td>13.998770</td>\n",
       "    </tr>\n",
       "    <tr>\n",
       "      <th>154</th>\n",
       "      <td>155</td>\n",
       "      <td>149.710408</td>\n",
       "      <td>2.122726</td>\n",
       "      <td>NaN</td>\n",
       "      <td>NaN</td>\n",
       "      <td>NaN</td>\n",
       "    </tr>\n",
       "    <tr>\n",
       "      <th>155</th>\n",
       "      <td>156</td>\n",
       "      <td>149.613543</td>\n",
       "      <td>2.123648</td>\n",
       "      <td>NaN</td>\n",
       "      <td>NaN</td>\n",
       "      <td>NaN</td>\n",
       "    </tr>\n",
       "    <tr>\n",
       "      <th>156</th>\n",
       "      <td>157</td>\n",
       "      <td>149.733670</td>\n",
       "      <td>2.114244</td>\n",
       "      <td>0.750294</td>\n",
       "      <td>80.0</td>\n",
       "      <td>17.520608</td>\n",
       "    </tr>\n",
       "    <tr>\n",
       "      <th>157</th>\n",
       "      <td>158</td>\n",
       "      <td>149.620169</td>\n",
       "      <td>2.116113</td>\n",
       "      <td>NaN</td>\n",
       "      <td>NaN</td>\n",
       "      <td>NaN</td>\n",
       "    </tr>\n",
       "  </tbody>\n",
       "</table>\n",
       "</div>"
      ],
      "text/plain": [
       "     Unnamed: 0          ra       dec     max_z  max_w    amp_max\n",
       "153         154  149.731087  2.125968  0.836494   80.0  13.998770\n",
       "154         155  149.710408  2.122726       NaN    NaN        NaN\n",
       "155         156  149.613543  2.123648       NaN    NaN        NaN\n",
       "156         157  149.733670  2.114244  0.750294   80.0  17.520608\n",
       "157         158  149.620169  2.116113       NaN    NaN        NaN"
      ]
     },
     "execution_count": 5,
     "metadata": {},
     "output_type": "execute_result"
    }
   ],
   "source": [
    "df_Gauss_b.tail()"
   ]
  },
  {
   "cell_type": "code",
   "execution_count": 6,
   "metadata": {},
   "outputs": [
    {
     "data": {
      "text/html": [
       "<div>\n",
       "<style scoped>\n",
       "    .dataframe tbody tr th:only-of-type {\n",
       "        vertical-align: middle;\n",
       "    }\n",
       "\n",
       "    .dataframe tbody tr th {\n",
       "        vertical-align: top;\n",
       "    }\n",
       "\n",
       "    .dataframe thead th {\n",
       "        text-align: right;\n",
       "    }\n",
       "</style>\n",
       "<table border=\"1\" class=\"dataframe\">\n",
       "  <thead>\n",
       "    <tr style=\"text-align: right;\">\n",
       "      <th></th>\n",
       "      <th>Unnamed: 0</th>\n",
       "      <th>ra</th>\n",
       "      <th>dec</th>\n",
       "      <th>max_z</th>\n",
       "      <th>max_w</th>\n",
       "      <th>amp_max</th>\n",
       "    </tr>\n",
       "  </thead>\n",
       "  <tbody>\n",
       "    <tr>\n",
       "      <th>153</th>\n",
       "      <td>154</td>\n",
       "      <td>149.731087</td>\n",
       "      <td>2.125968</td>\n",
       "      <td>1.466803</td>\n",
       "      <td>120.0</td>\n",
       "      <td>10.084553</td>\n",
       "    </tr>\n",
       "    <tr>\n",
       "      <th>154</th>\n",
       "      <td>155</td>\n",
       "      <td>149.710408</td>\n",
       "      <td>2.122726</td>\n",
       "      <td>NaN</td>\n",
       "      <td>NaN</td>\n",
       "      <td>NaN</td>\n",
       "    </tr>\n",
       "    <tr>\n",
       "      <th>155</th>\n",
       "      <td>156</td>\n",
       "      <td>149.613543</td>\n",
       "      <td>2.123648</td>\n",
       "      <td>0.883803</td>\n",
       "      <td>0.0</td>\n",
       "      <td>40.214989</td>\n",
       "    </tr>\n",
       "    <tr>\n",
       "      <th>156</th>\n",
       "      <td>157</td>\n",
       "      <td>149.733670</td>\n",
       "      <td>2.114244</td>\n",
       "      <td>1.282003</td>\n",
       "      <td>45.0</td>\n",
       "      <td>8.331302</td>\n",
       "    </tr>\n",
       "    <tr>\n",
       "      <th>157</th>\n",
       "      <td>158</td>\n",
       "      <td>149.620169</td>\n",
       "      <td>2.116113</td>\n",
       "      <td>0.973003</td>\n",
       "      <td>90.0</td>\n",
       "      <td>22.763103</td>\n",
       "    </tr>\n",
       "  </tbody>\n",
       "</table>\n",
       "</div>"
      ],
      "text/plain": [
       "     Unnamed: 0          ra       dec     max_z  max_w    amp_max\n",
       "153         154  149.731087  2.125968  1.466803  120.0  10.084553\n",
       "154         155  149.710408  2.122726       NaN    NaN        NaN\n",
       "155         156  149.613543  2.123648  0.883803    0.0  40.214989\n",
       "156         157  149.733670  2.114244  1.282003   45.0   8.331302\n",
       "157         158  149.620169  2.116113  0.973003   90.0  22.763103"
      ]
     },
     "execution_count": 6,
     "metadata": {},
     "output_type": "execute_result"
    }
   ],
   "source": [
    "df_Gauss_r.tail()"
   ]
  },
  {
   "cell_type": "markdown",
   "metadata": {},
   "source": [
    "First check amplitude blue vs amplitude red:"
   ]
  },
  {
   "cell_type": "code",
   "execution_count": 7,
   "metadata": {},
   "outputs": [
    {
     "data": {
      "text/plain": [
       "Text(0, 0.5, 'Amp red')"
      ]
     },
     "execution_count": 7,
     "metadata": {},
     "output_type": "execute_result"
    },
    {
     "data": {
      "image/png": "[encoded data removed]",
      "text/plain": [
       "<Figure size 432x288 with 1 Axes>"
      ]
     },
     "metadata": {
      "needs_background": "light"
     },
     "output_type": "display_data"
    }
   ],
   "source": [
    "plt.plot(df_Gauss_b['amp_max'], df_Gauss_r['amp_max'], ls = \"\", marker = \"o\")\n",
    "plt.title(\"Mask: \" + maskname)\n",
    "plt.xlabel(\"Amp blue\")\n",
    "plt.ylabel(\"Amp red\")"
   ]
  },
  {
   "cell_type": "markdown",
   "metadata": {},
   "source": [
    "This makes sense because most of the redmask amplitudes are wrong so we need to update most of the amps."
   ]
  },
  {
   "cell_type": "markdown",
   "metadata": {},
   "source": [
    "## Check amplitude vs [O II] flux trend"
   ]
  },
  {
   "cell_type": "markdown",
   "metadata": {},
   "source": [
    "Blue mask"
   ]
  },
  {
   "cell_type": "code",
   "execution_count": 8,
   "metadata": {},
   "outputs": [
    {
     "data": {
      "image/png": "[encoded data removed]",
      "text/plain": [
       "<Figure size 432x288 with 1 Axes>"
      ]
     },
     "metadata": {
      "needs_background": "light"
     },
     "output_type": "display_data"
    }
   ],
   "source": [
    "plt.plot(df_CNN['OII'], df_Gauss_b['amp_max'], ls = \"\", marker = \"o\")\n",
    "plt.title(\"Amplitude vs [O II] flux of Mask: \" + masknum)\n",
    "plt.xlabel(\"[O II] flux\")\n",
    "plt.ylabel(\"Amplitude\")\n",
    "plt.savefig(\"Amp_vs_OII.png\", dpi = 250, bbox_inches= 'tight')"
   ]
  },
  {
   "cell_type": "markdown",
   "metadata": {},
   "source": [
    "This trend is consistent with what is expected -- amplitudes should trace the trend of fluxing."
   ]
  },
  {
   "cell_type": "markdown",
   "metadata": {},
   "source": [
    "Red mask"
   ]
  },
  {
   "cell_type": "code",
   "execution_count": 9,
   "metadata": {},
   "outputs": [
    {
     "data": {
      "text/plain": [
       "(0, 65)"
      ]
     },
     "execution_count": 9,
     "metadata": {},
     "output_type": "execute_result"
    },
    {
     "data": {
      "image/png": "[encoded data removed]",
      "text/plain": [
       "<Figure size 432x288 with 1 Axes>"
      ]
     },
     "metadata": {
      "needs_background": "light"
     },
     "output_type": "display_data"
    }
   ],
   "source": [
    "plt.plot(df_CNN['OII'], df_Gauss_r['amp_max'], ls = \"\", marker = \"o\")\n",
    "plt.title(\"Amplitude vs [O II] flux of Mask: \" + str(int(masknum) + 1))\n",
    "plt.xlabel(\"[O II] flux\")\n",
    "plt.ylabel(\"Amplitude\")\n",
    "plt.ylim([0, 65])"
   ]
  },
  {
   "cell_type": "markdown",
   "metadata": {},
   "source": [
    "Look at the explanation above."
   ]
  },
  {
   "cell_type": "markdown",
   "metadata": {},
   "source": [
    "## Now check if CNN method found any redshifts that Gaussian Filter method failed to find"
   ]
  },
  {
   "cell_type": "code",
   "execution_count": 10,
   "metadata": {},
   "outputs": [],
   "source": [
    "#read in Gaussian filter results\n",
    "df_Gauss = pd.read_excel(\"../results/Max_z_n_width/\" + masknum + \"+\" +\\\n",
    " str(int(masknum) + 1) + \"_visual-inspected.xlsx\")"
   ]
  },
  {
   "cell_type": "code",
   "execution_count": 11,
   "metadata": {},
   "outputs": [],
   "source": [
    "#take average between blue and red mask and generate final redz\n",
    "df_Gauss['z_final'] = df_Gauss[['z_b', 'z_r']].mean(axis = 1)\n",
    "\n",
    "#clip last value of CNN\n",
    "df_CNN = df_CNN[:-1]"
   ]
  },
  {
   "cell_type": "code",
   "execution_count": 12,
   "metadata": {},
   "outputs": [
    {
     "data": {
      "text/html": [
       "<div>\n",
       "<style scoped>\n",
       "    .dataframe tbody tr th:only-of-type {\n",
       "        vertical-align: middle;\n",
       "    }\n",
       "\n",
       "    .dataframe tbody tr th {\n",
       "        vertical-align: top;\n",
       "    }\n",
       "\n",
       "    .dataframe thead th {\n",
       "        text-align: right;\n",
       "    }\n",
       "</style>\n",
       "<table border=\"1\" class=\"dataframe\">\n",
       "  <thead>\n",
       "    <tr style=\"text-align: right;\">\n",
       "      <th></th>\n",
       "      <th>Slit Num</th>\n",
       "      <th>z_b</th>\n",
       "      <th>vel_b</th>\n",
       "      <th>Confidence_b</th>\n",
       "      <th>Notes_b</th>\n",
       "      <th>z_r</th>\n",
       "      <th>vel_r</th>\n",
       "      <th>Confidence_r</th>\n",
       "      <th>Notes_r</th>\n",
       "      <th>z_final</th>\n",
       "    </tr>\n",
       "  </thead>\n",
       "  <tbody>\n",
       "    <tr>\n",
       "      <th>152</th>\n",
       "      <td>153</td>\n",
       "      <td>0.890294</td>\n",
       "      <td>40.0</td>\n",
       "      <td>1.0</td>\n",
       "      <td>NaN</td>\n",
       "      <td>NaN</td>\n",
       "      <td>NaN</td>\n",
       "      <td>NaN</td>\n",
       "      <td>NaN</td>\n",
       "      <td>0.890294</td>\n",
       "    </tr>\n",
       "    <tr>\n",
       "      <th>153</th>\n",
       "      <td>154</td>\n",
       "      <td>0.836494</td>\n",
       "      <td>80.0</td>\n",
       "      <td>3.0</td>\n",
       "      <td>NaN</td>\n",
       "      <td>0.836460</td>\n",
       "      <td>120.0</td>\n",
       "      <td>3.0</td>\n",
       "      <td>w*o2</td>\n",
       "      <td>0.836477</td>\n",
       "    </tr>\n",
       "    <tr>\n",
       "      <th>154</th>\n",
       "      <td>155</td>\n",
       "      <td>NaN</td>\n",
       "      <td>NaN</td>\n",
       "      <td>NaN</td>\n",
       "      <td>NaN</td>\n",
       "      <td>NaN</td>\n",
       "      <td>NaN</td>\n",
       "      <td>NaN</td>\n",
       "      <td>NaN</td>\n",
       "      <td>NaN</td>\n",
       "    </tr>\n",
       "    <tr>\n",
       "      <th>155</th>\n",
       "      <td>156</td>\n",
       "      <td>NaN</td>\n",
       "      <td>NaN</td>\n",
       "      <td>NaN</td>\n",
       "      <td>NaN</td>\n",
       "      <td>0.883803</td>\n",
       "      <td>0.0</td>\n",
       "      <td>NaN</td>\n",
       "      <td>NaN</td>\n",
       "      <td>0.883803</td>\n",
       "    </tr>\n",
       "    <tr>\n",
       "      <th>156</th>\n",
       "      <td>157</td>\n",
       "      <td>0.750294</td>\n",
       "      <td>80.0</td>\n",
       "      <td>3.0</td>\n",
       "      <td>NaN</td>\n",
       "      <td>0.749737</td>\n",
       "      <td>45.0</td>\n",
       "      <td>3.0</td>\n",
       "      <td>w*hb</td>\n",
       "      <td>0.750016</td>\n",
       "    </tr>\n",
       "  </tbody>\n",
       "</table>\n",
       "</div>"
      ],
      "text/plain": [
       "     Slit Num       z_b  vel_b  Confidence_b Notes_b       z_r  vel_r  \\\n",
       "152       153  0.890294   40.0           1.0     NaN       NaN    NaN   \n",
       "153       154  0.836494   80.0           3.0     NaN  0.836460  120.0   \n",
       "154       155       NaN    NaN           NaN     NaN       NaN    NaN   \n",
       "155       156       NaN    NaN           NaN     NaN  0.883803    0.0   \n",
       "156       157  0.750294   80.0           3.0     NaN  0.749737   45.0   \n",
       "\n",
       "     Confidence_r Notes_r   z_final  \n",
       "152           NaN     NaN  0.890294  \n",
       "153           3.0    w*o2  0.836477  \n",
       "154           NaN     NaN       NaN  \n",
       "155           NaN     NaN  0.883803  \n",
       "156           3.0    w*hb  0.750016  "
      ]
     },
     "execution_count": 12,
     "metadata": {},
     "output_type": "execute_result"
    }
   ],
   "source": [
    "df_Gauss.tail()"
   ]
  },
  {
   "cell_type": "code",
   "execution_count": 13,
   "metadata": {},
   "outputs": [],
   "source": [
    "#redshift arrays\n",
    "jz = np.array(df_CNN['redz'])\n",
    "tz = np.array(df_Gauss['z_final'])"
   ]
  },
  {
   "cell_type": "code",
   "execution_count": 14,
   "metadata": {},
   "outputs": [
    {
     "data": {
      "image/png": "[encoded data removed]",
      "text/plain": [
       "<Figure size 432x288 with 1 Axes>"
      ]
     },
     "metadata": {
      "needs_background": "light"
     },
     "output_type": "display_data"
    }
   ],
   "source": [
    "#plot comparison\n",
    "x = np.arange(0, 1.7, .1)\n",
    "alpha = 0.7\n",
    "plt.plot(jz, tz, marker = \"o\", ls = \"\", alpha = alpha)\n",
    "plt.plot(x, x, alpha = alpha)\n",
    "plt.xlabel(\"CNN redshifts\")\n",
    "plt.ylabel(\"Gaussian redshifts\")\n",
    "fname = \"../results/summary_statistics/CNN_vs_Gauss/\" + maskname \\\n",
    "+ \"-CNN_vs_Gauss_comparison.png\"\n",
    "plt.savefig(fname, dpi = 250, bbox_inches = 'tight')"
   ]
  },
  {
   "cell_type": "code",
   "execution_count": 15,
   "metadata": {},
   "outputs": [
    {
     "name": "stdout",
     "output_type": "stream",
     "text": [
      "slits where CNN found redz but Gaussian Filter did not:\n",
      "Total number of slits:  9\n",
      "------------------------------------------------------\n",
      "     Unnamed: 0  CONF       DEC  MASK_NUM        OII   OII_err          RA  \\\n",
      "288       288.0   3.0  2.335872       2.0   6.022069  0.239421  149.934395   \n",
      "298       298.0   3.0  2.306910       2.0   6.367792  0.312719  149.816994   \n",
      "299       299.0   3.0  2.302222       2.0  20.092841  0.520151  149.891162   \n",
      "337       337.0   3.0  2.189960       2.0   1.599111  0.243899  149.858250   \n",
      "353       353.0   1.0  2.133310       2.0   5.473972  0.254889  149.841567   \n",
      "360       360.0   3.0  2.107576       2.0   2.683161  0.185770  149.858727   \n",
      "387       387.0   3.0  2.279246       2.0   0.000000 -1.000000  149.709116   \n",
      "416       416.0   3.0  2.193647       2.0   6.455759  0.382876  149.682100   \n",
      "433       433.0   3.0  2.135751       2.0   6.004892  0.330992  149.632129   \n",
      "\n",
      "     bit_code       gmag     redz       rmag       zmag mask_name  \n",
      "288     152.0  21.896437  0.69440  21.480114  20.852908  COSMOS-1  \n",
      "298    2000.0  22.708343  0.89185  22.005343  20.791322  COSMOS-1  \n",
      "299    1928.0  23.354948  1.53500  23.344564  22.816226  COSMOS-1  \n",
      "337     208.0  21.634037  0.70730  21.001731  19.828168  COSMOS-1  \n",
      "353       8.0  23.794671  1.45565  23.320212  22.751189  COSMOS-1  \n",
      "360       8.0  23.801531  0.78740  23.390725  22.817528  COSMOS-1  \n",
      "387       8.0  23.414704  0.35420  23.119044  22.724289  COSMOS-1  \n",
      "416    1792.0  23.112332  0.73425  22.103673  20.931388  COSMOS-1  \n",
      "433       8.0  23.615298  0.53030  23.031683  22.378367  COSMOS-1  \n",
      "------------------------------------------------------\n"
     ]
    }
   ],
   "source": [
    "#Show stats on how many redshifts Gaussian Filter method did not identify\n",
    "idx = np.where(np.isnan(tz))\n",
    "print(\"slits where CNN found redz but Gaussian Filter did not:\")\n",
    "print(\"Total number of slits: \", np.sum((np.isnan(jz[np.isnan(tz)]) == False)))\n",
    "print(\"------------------------------------------------------\")\n",
    "print(df_CNN.iloc[idx].dropna())\n",
    "print(\"------------------------------------------------------\")"
   ]
  },
  {
   "cell_type": "markdown",
   "metadata": {},
   "source": [
    "Among these, check how many meet the flux threshold of $8\\times 10^{-17}$:"
   ]
  },
  {
   "cell_type": "code",
   "execution_count": 16,
   "metadata": {},
   "outputs": [
    {
     "name": "stdout",
     "output_type": "stream",
     "text": [
      "Total number of slits meeting flux threshold:  1\n",
      "------------------------------------------------------\n",
      "     Unnamed: 0  CONF       DEC  MASK_NUM        OII   OII_err          RA  \\\n",
      "299       299.0   3.0  2.302222       2.0  20.092841  0.520151  149.891162   \n",
      "\n",
      "     bit_code       gmag   redz       rmag       zmag mask_name  \n",
      "299    1928.0  23.354948  1.535  23.344564  22.816226  COSMOS-1  \n",
      "------------------------------------------------------\n"
     ]
    }
   ],
   "source": [
    "df_threshold = df_CNN.iloc[idx].dropna()\n",
    "df_threshold = df_threshold[df_threshold['OII'] > 8]\n",
    "print(\"Total number of slits meeting flux threshold: \", len(df_threshold))\n",
    "print(\"------------------------------------------------------\")\n",
    "print(df_threshold)\n",
    "print(\"------------------------------------------------------\")"
   ]
  },
  {
   "cell_type": "code",
   "execution_count": 21,
   "metadata": {},
   "outputs": [
    {
     "data": {
      "text/plain": [
       "7207.962915587384"
      ]
     },
     "execution_count": 21,
     "metadata": {},
     "output_type": "execute_result"
    }
   ],
   "source": [
    "2.535*3727/6563*5007\n"
   ]
  },
  {
   "cell_type": "code",
   "execution_count": 23,
   "metadata": {},
   "outputs": [],
   "source": [
    "def datareader(maskname, dir_name = \"../data/npz_files/\"):\n",
    "\t\"\"\"Reads mask data for use by the other functions in this module\n",
    "\tParameters\n",
    "\t----------\n",
    "\tmaskname: name of the mask + '-' + grating number\n",
    "\t\"\"\"\n",
    "\t\n",
    "\tfname = maskname + '-' + 'spec1d.npz'\n",
    "\tdata = np.load(dir_name + fname)\n",
    "\t\n",
    "\treturn data"
   ]
  },
  {
   "cell_type": "code",
   "execution_count": 36,
   "metadata": {},
   "outputs": [],
   "source": [
    "def wave_grid(data):\n",
    "\t\"\"\"Returns wavegrid based on header file from data\"\"\"\n",
    "\t\n",
    "\tcrval1 = float(str(data['headers'][1]).split(\"CRVAL1\")[1].\\\n",
    "\t\t\t\tsplit(\"=\")[1].split(\"/\")[0]) #Starting value\n",
    "\tcdelt1 = float(str(data['headers'][1]).split(\"CDELT1\")[1].\\\n",
    "\t\t\t\tsplit(\"=\")[1].split(\"/\")[0]) #Pixel size\n",
    "\t\n",
    "\tcollapsedSpectrum = data['data_ivar'][:, 0, :]\n",
    "\t\n",
    "\twave_grid = crval1 + cdelt1 * np.arange(collapsedSpectrum[1].shape[0])\n",
    "\twave_grid *= 10 #Convert wave_grid to Angstrom from nm\n",
    "\tcrval1 *= 10\n",
    "\t\n",
    "\treturn crval1, wave_grid"
   ]
  },
  {
   "cell_type": "code",
   "execution_count": 39,
   "metadata": {},
   "outputs": [],
   "source": [
    "data = datareader('1187')\n",
    "_, wg = wave_grid(data)"
   ]
  },
  {
   "cell_type": "code",
   "execution_count": 45,
   "metadata": {},
   "outputs": [
    {
     "data": {
      "text/plain": [
       "8199.400000000001"
      ]
     },
     "execution_count": 45,
     "metadata": {},
     "output_type": "execute_result"
    }
   ],
   "source": [
    "2.2*3727"
   ]
  },
  {
   "cell_type": "code",
   "execution_count": 49,
   "metadata": {},
   "outputs": [
    {
     "data": {
      "text/plain": [
       "(8100, 8300)"
      ]
     },
     "execution_count": 49,
     "metadata": {},
     "output_type": "execute_result"
    },
    {
     "data": {
      "image/png": "[encoded data removed]",
      "text/plain": [
       "<Figure size 432x288 with 1 Axes>"
      ]
     },
     "metadata": {
      "needs_background": "light"
     },
     "output_type": "display_data"
    }
   ],
   "source": [
    "image = data['data_ivar']\n",
    "image = image[18]\n",
    "plt.plot(wg, image[0])\n",
    "plt.xlim([8100, 8300])"
   ]
  },
  {
   "cell_type": "markdown",
   "metadata": {},
   "source": [
    "## Now check which slits I found redz for but CNN did not"
   ]
  },
  {
   "cell_type": "code",
   "execution_count": 17,
   "metadata": {},
   "outputs": [
    {
     "name": "stdout",
     "output_type": "stream",
     "text": [
      "slits where CNN found redz but Gaussian Filter did not:\n",
      "Total number of slits:  26\n",
      "------------------------------------------------------\n",
      "     Slit Num       z_b  vel_b  Confidence_b Notes_b       z_r  vel_r  \\\n",
      "0           1  1.004494   85.0           3.0     NaN       NaN    NaN   \n",
      "3           4       NaN    NaN           NaN     NaN  1.455603   65.0   \n",
      "5           6       NaN    NaN           NaN     NaN  1.170803   55.0   \n",
      "11         12       NaN    NaN           NaN     NaN  0.994403   80.0   \n",
      "13         14       NaN    NaN           NaN     NaN  1.239003   55.0   \n",
      "14         15       NaN    NaN           NaN     NaN  1.496603   75.0   \n",
      "19         20       NaN    NaN           NaN     NaN  1.148203  110.0   \n",
      "21         22       NaN    NaN           NaN     NaN  0.993403  125.0   \n",
      "29         30  1.094494   55.0           1.0     NaN       NaN    NaN   \n",
      "38         39  0.885094   65.0           3.0     NaN       NaN    NaN   \n",
      "47         48       NaN    NaN           NaN     NaN  1.178603   60.0   \n",
      "54         55       NaN    NaN           NaN     NaN  0.348697   20.0   \n",
      "56         57  0.953094   55.0           2.0     NaN       NaN    NaN   \n",
      "58         59  0.931894   50.0           3.0     NaN  0.932003   60.0   \n",
      "62         63  0.883694   95.0           1.0     NaN       NaN    NaN   \n",
      "66         67  0.937894  140.0           1.0     NaN       NaN    NaN   \n",
      "67         68  1.021094   85.0           1.0     NaN       NaN    NaN   \n",
      "68         69  0.975494  110.0           1.0     NaN       NaN    NaN   \n",
      "72         73       NaN    NaN           NaN     NaN  1.177203   80.0   \n",
      "83         84       NaN    NaN           NaN     NaN  1.253003   50.0   \n",
      "94         95  1.006894   80.0           1.0     NaN       NaN    NaN   \n",
      "98         99  1.024494   65.0           3.0     NaN  1.024403   75.0   \n",
      "120       121  0.973694  100.0           1.0     NaN       NaN    NaN   \n",
      "126       127       NaN    NaN           NaN     NaN  1.172603   60.0   \n",
      "135       136       NaN    NaN           NaN     NaN  1.151803  190.0   \n",
      "155       156       NaN    NaN           NaN     NaN  0.883803    0.0   \n",
      "\n",
      "     Confidence_r Notes_r   z_final  \n",
      "0             NaN     NaN  1.004494  \n",
      "3             1.0     NaN  1.455603  \n",
      "5             1.0     NaN  1.170803  \n",
      "11            1.0     NaN  0.994403  \n",
      "13            3.0     NaN  1.239003  \n",
      "14            1.0     NaN  1.496603  \n",
      "19            1.0     NaN  1.148203  \n",
      "21            1.0     NaN  0.993403  \n",
      "29            NaN     NaN  1.094494  \n",
      "38            NaN     NaN  0.885094  \n",
      "47            3.0     NaN  1.178603  \n",
      "54            3.0    w*ha  0.348697  \n",
      "56            NaN     NaN  0.953094  \n",
      "58            3.0     NaN  0.931949  \n",
      "62            NaN     NaN  0.883694  \n",
      "66            NaN     NaN  0.937894  \n",
      "67            NaN     NaN  1.021094  \n",
      "68            NaN     NaN  0.975494  \n",
      "72            1.0     NaN  1.177203  \n",
      "83            1.0     NaN  1.253003  \n",
      "94            NaN     NaN  1.006894  \n",
      "98            1.0     NaN  1.024449  \n",
      "120           NaN     NaN  0.973694  \n",
      "126           1.0     NaN  1.172603  \n",
      "135           1.0     NaN  1.151803  \n",
      "155           NaN     NaN  0.883803  \n",
      "------------------------------------------------------\n"
     ]
    }
   ],
   "source": [
    "#Show stats on how many redshifts Gaussian Filter method did not identify\n",
    "idx = np.where(np.isnan(jz))\n",
    "print(\"slits where CNN found redz but Gaussian Filter did not:\")\n",
    "print(\"Total number of slits: \", np.sum((np.isnan(tz[np.isnan(jz)]) == False)))\n",
    "print(\"------------------------------------------------------\")\n",
    "print(df_Gauss.iloc[idx].dropna(subset = ['z_final']))\n",
    "print(\"------------------------------------------------------\")"
   ]
  },
  {
   "cell_type": "code",
   "execution_count": null,
   "metadata": {},
   "outputs": [],
   "source": []
  }
 ],
 "metadata": {
  "kernelspec": {
   "display_name": "Python 3",
   "language": "python",
   "name": "python3"
  },
  "language_info": {
   "codemirror_mode": {
    "name": "ipython",
    "version": 3
   },
   "file_extension": ".py",
   "mimetype": "text/x-python",
   "name": "python",
   "nbconvert_exporter": "python",
   "pygments_lexer": "ipython3",
   "version": "3.7.0"
  }
 },
 "nbformat": 4,
 "nbformat_minor": 2
}
